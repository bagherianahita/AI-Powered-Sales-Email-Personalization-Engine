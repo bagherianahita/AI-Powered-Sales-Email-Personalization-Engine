{
 "cells": [
  {
   "cell_type": "code",
   "execution_count": null,
   "id": "bd0f256a",
   "metadata": {},
   "outputs": [],
   "source": [
    "import pandas as pd\n",
    "import matplotlib.pyplot as plt\n",
    "\n",
    "# Read the CSV file into a DataFrame\n",
    "df = pd.read_csv('your_file.csv')\n",
    "\n",
    "# Create a histogram\n",
    "plt.hist(df['data_column'], bins=10, edgecolor='k')\n",
    "\n",
    "# Add labels and title\n",
    "plt.xlabel('X-axis Label')\n",
    "plt.ylabel('Y-axis Label')\n",
    "plt.title('Histogram of Your Data')\n",
    "\n",
    "# Display or save the histogram\n",
    "plt.show()  # To display the histogram\n",
    "# Or\n",
    "# plt.savefig('histogram.png', dpi=300, bbox_inches='tight')  # To save the histogram as an image\n"
   ]
  }
 ],
 "metadata": {
  "kernelspec": {
   "display_name": "Python 3 (ipykernel)",
   "language": "python",
   "name": "python3"
  },
  "language_info": {
   "codemirror_mode": {
    "name": "ipython",
    "version": 3
   },
   "file_extension": ".py",
   "mimetype": "text/x-python",
   "name": "python",
   "nbconvert_exporter": "python",
   "pygments_lexer": "ipython3",
   "version": "3.10.9"
  }
 },
 "nbformat": 4,
 "nbformat_minor": 5
}
