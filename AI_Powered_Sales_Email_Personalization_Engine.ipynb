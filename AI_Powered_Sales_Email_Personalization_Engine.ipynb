{
  "nbformat": 4,
  "nbformat_minor": 0,
  "metadata": {
    "colab": {
      "provenance": []
    },
    "kernelspec": {
      "name": "python3",
      "display_name": "Python 3"
    },
    "language_info": {
      "name": "python"
    }
  },
  "cells": [
    {
      "cell_type": "code",
      "execution_count": null,
      "metadata": {
        "id": "u-yB87s8nEs0"
      },
      "outputs": [],
      "source": [
        "# OpenAI\n",
        "OPENAI_API_KEY=sk-...\n",
        "MODEL_CHAT=gpt-4o-mini\n",
        "MODEL_EMBED=text-embedding-3-large\n",
        "\n",
        "# Pinecone\n",
        "PINECONE_API_KEY=pc-...\n",
        "PINECONE_ENV=us-east1-gcp\n",
        "PINECONE_INDEX=sales-prospects\n",
        "\n",
        "# Service\n",
        "SERVICE_NAME=sales-email-engine\n",
        "LOG_LEVEL=INFO\n",
        "MAX_CONTEXT_DOCS=6\n",
        "TOP_K=6\n",
        "\n",
        "# CRM (HubSpot example)\n",
        "HUBSPOT_API_KEY=pat-...\n",
        "\n",
        "# Optional: News API (if used in scripts/news_fetch.py)\n",
        "NEWS_API_KEY=..."
      ]
    }
  ]
}